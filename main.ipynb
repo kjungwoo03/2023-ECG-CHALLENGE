{
  "cells": [
    {
      "cell_type": "code",
      "execution_count": null,
      "metadata": {
        "colab": {
          "base_uri": "https://localhost:8080/"
        },
        "id": "bvJcUvweU_YE",
        "outputId": "e6f8314d-4f2f-4c79-8268-8c187ef80706"
      },
      "outputs": [],
      "source": [
        "# access to google drive\n",
        "from google.colab import drive\n",
        "drive.mount('/content/gdrive')"
      ]
    },
    {
      "cell_type": "code",
      "execution_count": null,
      "metadata": {
        "colab": {
          "base_uri": "https://localhost:8080/"
        },
        "id": "4_KQqfjzdfLk",
        "outputId": "4a50fb0e-410e-4f13-c5be-4e7849f20ac7"
      },
      "outputs": [],
      "source": [
        "# create a directory in drive\n",
        "import os\n",
        "print(os.getcwd())"
      ]
    },
    {
      "cell_type": "code",
      "execution_count": null,
      "metadata": {
        "colab": {
          "base_uri": "https://localhost:8080/"
        },
        "id": "g2cdEe0Id3mU",
        "outputId": "45e88709-2d53-4156-a07f-6decf515ada9"
      },
      "outputs": [],
      "source": [
        "%cd \"/content/gdrive/MyDrive//2023ECGChallenge\""
      ]
    },
    {
      "cell_type": "markdown",
      "metadata": {
        "id": "XHItwXGVVxU8"
      },
      "source": [
        "### *load dataset*"
      ]
    },
    {
      "cell_type": "code",
      "execution_count": null,
      "metadata": {
        "id": "xEqh93qcVT6H"
      },
      "outputs": [],
      "source": [
        "import numpy as np\n",
        "import pandas as pd\n",
        "\n",
        "x_train = pd.read_csv('x_train_lead_3.csv', index_col= 0)\n",
        "y_train = pd.read_csv('y_train_lead_3.csv', index_col= 0)\n",
        "\n",
        "# print(x_train.shape)\n",
        "# print(y_train.shape)"
      ]
    },
    {
      "cell_type": "code",
      "execution_count": null,
      "metadata": {
        "colab": {
          "base_uri": "https://localhost:8080/",
          "height": 283
        },
        "id": "C0ayaGUzLCcb",
        "outputId": "3f181ceb-c79d-4cd2-e9f5-b25c447614d6"
      },
      "outputs": [],
      "source": [
        "import matplotlib.pyplot as plt\n",
        "plt.plot(x_train.iloc[0,:])"
      ]
    },
    {
      "cell_type": "code",
      "execution_count": null,
      "metadata": {
        "id": "KhSCUA7dz-Im"
      },
      "outputs": [],
      "source": [
        "# mark accute/not accute\n",
        "y_train = np.array(y_train['not_accute'])\n",
        "y_train = y_train.reshape(-1, 1)"
      ]
    },
    {
      "cell_type": "markdown",
      "metadata": {
        "id": "_sUMkP797sMc"
      },
      "source": [
        "### *model creation*"
      ]
    },
    {
      "cell_type": "code",
      "execution_count": null,
      "metadata": {
        "id": "nLow8tNsyC0C"
      },
      "outputs": [],
      "source": [
        "from tensorflow.keras.layers import Conv1D, MaxPool1D, ReLU, Input, Flatten, Dense, Add, BatchNormalization, AveragePooling1D\n",
        "from tensorflow.keras.models import Model\n",
        "from tensorflow.keras.layers import Activation\n",
        "\n",
        "# define residual block\n",
        "def residual_block(x):\n",
        "    # define the two Conv1D layers in the residual block\n",
        "    y = Conv1D(filters=32, kernel_size=5, padding='same')(x)\n",
        "    y = BatchNormalization()(y)\n",
        "    y = ReLU()(y)\n",
        "    \n",
        "    y = Conv1D(filters=32, kernel_size=5, padding='same')(y)\n",
        "    y = BatchNormalization()(y)\n",
        "    \n",
        "    # add residual skip connection\n",
        "    y = Add()([y, x])\n",
        "    \n",
        "    # add ReLU function, maxpooling\n",
        "    y = MaxPool1D(5, 2)(y)\n",
        "    \n",
        "    return y\n",
        "\n",
        "# define input layer shape\n",
        "inputs = Input(shape=(1000, 1))\n",
        "\n",
        "x = Conv1D(filters=32, kernel_size=5, strides=1)(inputs)\n",
        "\n",
        "x = residual_block(x)\n",
        "x = residual_block(x)\n",
        "x = residual_block(x)\n",
        "x = residual_block(x)\n",
        "x = residual_block(x)\n",
        "\n",
        "x = Flatten()(x)\n",
        "\n",
        "x = Dense(32, activation='gelu')(x)\n",
        "x = Dense(32, activation='gelu')(x)\n",
        "\n",
        "outputs = Dense(1, activation='sigmoid')(x)\n",
        "\n",
        "# model definition\n",
        "model = Model(inputs, outputs)"
      ]
    },
    {
      "cell_type": "code",
      "execution_count": null,
      "metadata": {
        "colab": {
          "base_uri": "https://localhost:8080/"
        },
        "id": "Uy6P0ksgyNew",
        "outputId": "99a8e0d4-f7a7-4470-c4bb-a85b801343e7"
      },
      "outputs": [],
      "source": [
        "# get model information\n",
        "model.summary()"
      ]
    },
    {
      "cell_type": "code",
      "execution_count": null,
      "metadata": {
        "colab": {
          "base_uri": "https://localhost:8080/"
        },
        "id": "Vn8Eq7ctyOk5",
        "outputId": "a2f9bd61-9100-48dd-cb55-e8d68a0f059d"
      },
      "outputs": [],
      "source": [
        "from tensorflow.keras.callbacks import LearningRateScheduler\n",
        "import math\n",
        "\n",
        "def lr_schedule(epoch):\n",
        "    # define simple learning rate decay\n",
        "    lr = 0.001 * math.pow(0.1, math.floor(epoch / 10))\n",
        "    return lr\n",
        "\n",
        "# print('Decaying Rate')\n",
        "# print(lr_schedule(9), lr_schedule(10), lr_schedule(19), lr_schedule(20))\n",
        "\n",
        "lr_scheduler = LearningRateScheduler(lr_schedule)"
      ]
    },
    {
      "cell_type": "code",
      "execution_count": null,
      "metadata": {
        "id": "0p7St_IvzXyb"
      },
      "outputs": [],
      "source": [
        "from tensorflow.keras.optimizers import Adam, SGD, Adagrad\n",
        "\n",
        "# compile model\n",
        "model.compile(loss='binary_crossentropy',\n",
        "              optimizer=Adam(learning_rate=0.001),\n",
        "              metrics=['accuracy'])"
      ]
    },
    {
      "cell_type": "code",
      "execution_count": null,
      "metadata": {
        "id": "XjRPtNjFzfdc"
      },
      "outputs": [],
      "source": [
        "from tensorflow.keras.callbacks import EarlyStopping, ModelCheckpoint\n",
        "\n",
        "filepath = \"best_model_accutebinary.h5\"\n",
        "# define early_stopping\n",
        "early_stopping = EarlyStopping(monitor='val_loss', patience=30)\n",
        "# define checkpoint\n",
        "model_checkpoint = ModelCheckpoint(filepath, save_best_only=True, save_weights_only=False, monitor='val_loss', mode='min')"
      ]
    },
    {
      "cell_type": "code",
      "execution_count": null,
      "metadata": {
        "colab": {
          "base_uri": "https://localhost:8080/"
        },
        "id": "HPjqvTmpzY2b",
        "outputId": "5f12cb74-04b6-4a98-fcec-a5a98ff39473"
      },
      "outputs": [],
      "source": [
        "# check gpu usage\n",
        "import tensorflow as tf\n",
        "device_name = tf.test.gpu_device_name()\n",
        "print(device_name)\n",
        "\n",
        "with tf.device(device_name):\n",
        "    history = model.fit(x=x_train,\n",
        "                          y=y_train,           \n",
        "                          validation_split= 0.1,\n",
        "                          batch_size=128,         \n",
        "                          epochs=100,            \n",
        "                          verbose=2,\n",
        "                        callbacks=[lr_scheduler, early_stopping, model_checkpoint])"
      ]
    },
    {
      "cell_type": "code",
      "execution_count": null,
      "metadata": {
        "id": "zhKATm_DeV5U"
      },
      "outputs": [],
      "source": []
    }
  ],
  "metadata": {
    "accelerator": "GPU",
    "colab": {
      "machine_shape": "hm",
      "provenance": []
    },
    "gpuClass": "premium",
    "kernelspec": {
      "display_name": "Python 3",
      "name": "python3"
    },
    "language_info": {
      "name": "python"
    }
  },
  "nbformat": 4,
  "nbformat_minor": 0
}
